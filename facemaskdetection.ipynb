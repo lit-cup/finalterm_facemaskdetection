{
  "nbformat": 4,
  "nbformat_minor": 0,
  "metadata": {
    "colab": {
      "provenance": [],
      "authorship_tag": "ABX9TyM1BGahFjxTYyXFTVkYxJKg",
      "include_colab_link": true
    },
    "kernelspec": {
      "name": "python3",
      "display_name": "Python 3"
    },
    "language_info": {
      "name": "python"
    }
  },
  "cells": [
    {
      "cell_type": "markdown",
      "metadata": {
        "id": "view-in-github",
        "colab_type": "text"
      },
      "source": [
        "<a href=\"https://colab.research.google.com/github/lit-cup/finalterm_facemaskdetection/blob/main/facemaskdetection.ipynb\" target=\"_parent\"><img src=\"https://colab.research.google.com/assets/colab-badge.svg\" alt=\"Open In Colab\"/></a>"
      ]
    },
    {
      "cell_type": "markdown",
      "source": [
        "# **Prepare code**"
      ],
      "metadata": {
        "id": "9R-F0yqNJKMn"
      }
    },
    {
      "cell_type": "code",
      "execution_count": 2,
      "metadata": {
        "colab": {
          "base_uri": "https://localhost:8080/"
        },
        "id": "ULrPxkgnIc-Z",
        "outputId": "38cc947b-cf25-4704-8a36-20efc8710cfb"
      },
      "outputs": [
        {
          "output_type": "stream",
          "name": "stdout",
          "text": [
            "Cloning into 'finalterm_facemaskdetection.gitt'...\n",
            "fatal: could not read Username for 'https://github.com': No such device or address\n",
            "git: 'chechout' is not a git command. See 'git --help'.\n",
            "\n",
            "The most similar command is\n",
            "\tcheckout\n"
          ]
        }
      ],
      "source": [
        "\n",
        "!git clone https://github.com/lit-cup/finalterm_facemaskdetection.gitt\n",
        "!git chechout main"
      ]
    }
  ]
}